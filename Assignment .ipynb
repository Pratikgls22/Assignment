{
 "cells": [
  {
   "cell_type": "code",
   "execution_count": 4,
   "id": "80ad3225",
   "metadata": {},
   "outputs": [],
   "source": [
    "import pandas as pd"
   ]
  },
  {
   "cell_type": "code",
   "execution_count": 5,
   "id": "06a1726b",
   "metadata": {},
   "outputs": [],
   "source": [
    "titanic = pd.read_csv('titanic.csv')"
   ]
  },
  {
   "cell_type": "code",
   "execution_count": 6,
   "id": "7c8e0872",
   "metadata": {},
   "outputs": [
    {
     "data": {
      "text/html": [
       "<div>\n",
       "<style scoped>\n",
       "    .dataframe tbody tr th:only-of-type {\n",
       "        vertical-align: middle;\n",
       "    }\n",
       "\n",
       "    .dataframe tbody tr th {\n",
       "        vertical-align: top;\n",
       "    }\n",
       "\n",
       "    .dataframe thead th {\n",
       "        text-align: right;\n",
       "    }\n",
       "</style>\n",
       "<table border=\"1\" class=\"dataframe\">\n",
       "  <thead>\n",
       "    <tr style=\"text-align: right;\">\n",
       "      <th></th>\n",
       "      <th>PassengerId</th>\n",
       "      <th>Survived</th>\n",
       "      <th>Pclass</th>\n",
       "      <th>Name</th>\n",
       "      <th>Sex</th>\n",
       "      <th>Age</th>\n",
       "      <th>SibSp</th>\n",
       "      <th>Parch</th>\n",
       "      <th>Ticket</th>\n",
       "      <th>Fare</th>\n",
       "      <th>Cabin</th>\n",
       "      <th>Embarked</th>\n",
       "    </tr>\n",
       "  </thead>\n",
       "  <tbody>\n",
       "    <tr>\n",
       "      <th>0</th>\n",
       "      <td>1</td>\n",
       "      <td>0</td>\n",
       "      <td>3</td>\n",
       "      <td>Braund, Mr. Owen Harris</td>\n",
       "      <td>male</td>\n",
       "      <td>22.0</td>\n",
       "      <td>1</td>\n",
       "      <td>0</td>\n",
       "      <td>A/5 21171</td>\n",
       "      <td>7.2500</td>\n",
       "      <td>NaN</td>\n",
       "      <td>S</td>\n",
       "    </tr>\n",
       "    <tr>\n",
       "      <th>1</th>\n",
       "      <td>2</td>\n",
       "      <td>1</td>\n",
       "      <td>1</td>\n",
       "      <td>Cumings, Mrs. John Bradley (Florence Briggs Th...</td>\n",
       "      <td>female</td>\n",
       "      <td>38.0</td>\n",
       "      <td>1</td>\n",
       "      <td>0</td>\n",
       "      <td>PC 17599</td>\n",
       "      <td>71.2833</td>\n",
       "      <td>C85</td>\n",
       "      <td>C</td>\n",
       "    </tr>\n",
       "    <tr>\n",
       "      <th>2</th>\n",
       "      <td>3</td>\n",
       "      <td>1</td>\n",
       "      <td>3</td>\n",
       "      <td>Heikkinen, Miss. Laina</td>\n",
       "      <td>female</td>\n",
       "      <td>26.0</td>\n",
       "      <td>0</td>\n",
       "      <td>0</td>\n",
       "      <td>STON/O2. 3101282</td>\n",
       "      <td>7.9250</td>\n",
       "      <td>NaN</td>\n",
       "      <td>S</td>\n",
       "    </tr>\n",
       "    <tr>\n",
       "      <th>3</th>\n",
       "      <td>4</td>\n",
       "      <td>1</td>\n",
       "      <td>1</td>\n",
       "      <td>Futrelle, Mrs. Jacques Heath (Lily May Peel)</td>\n",
       "      <td>female</td>\n",
       "      <td>35.0</td>\n",
       "      <td>1</td>\n",
       "      <td>0</td>\n",
       "      <td>113803</td>\n",
       "      <td>53.1000</td>\n",
       "      <td>C123</td>\n",
       "      <td>S</td>\n",
       "    </tr>\n",
       "    <tr>\n",
       "      <th>4</th>\n",
       "      <td>5</td>\n",
       "      <td>0</td>\n",
       "      <td>3</td>\n",
       "      <td>Allen, Mr. William Henry</td>\n",
       "      <td>male</td>\n",
       "      <td>35.0</td>\n",
       "      <td>0</td>\n",
       "      <td>0</td>\n",
       "      <td>373450</td>\n",
       "      <td>8.0500</td>\n",
       "      <td>NaN</td>\n",
       "      <td>S</td>\n",
       "    </tr>\n",
       "    <tr>\n",
       "      <th>...</th>\n",
       "      <td>...</td>\n",
       "      <td>...</td>\n",
       "      <td>...</td>\n",
       "      <td>...</td>\n",
       "      <td>...</td>\n",
       "      <td>...</td>\n",
       "      <td>...</td>\n",
       "      <td>...</td>\n",
       "      <td>...</td>\n",
       "      <td>...</td>\n",
       "      <td>...</td>\n",
       "      <td>...</td>\n",
       "    </tr>\n",
       "    <tr>\n",
       "      <th>886</th>\n",
       "      <td>887</td>\n",
       "      <td>0</td>\n",
       "      <td>2</td>\n",
       "      <td>Montvila, Rev. Juozas</td>\n",
       "      <td>male</td>\n",
       "      <td>27.0</td>\n",
       "      <td>0</td>\n",
       "      <td>0</td>\n",
       "      <td>211536</td>\n",
       "      <td>13.0000</td>\n",
       "      <td>NaN</td>\n",
       "      <td>S</td>\n",
       "    </tr>\n",
       "    <tr>\n",
       "      <th>887</th>\n",
       "      <td>888</td>\n",
       "      <td>1</td>\n",
       "      <td>1</td>\n",
       "      <td>Graham, Miss. Margaret Edith</td>\n",
       "      <td>female</td>\n",
       "      <td>19.0</td>\n",
       "      <td>0</td>\n",
       "      <td>0</td>\n",
       "      <td>112053</td>\n",
       "      <td>30.0000</td>\n",
       "      <td>B42</td>\n",
       "      <td>S</td>\n",
       "    </tr>\n",
       "    <tr>\n",
       "      <th>888</th>\n",
       "      <td>889</td>\n",
       "      <td>0</td>\n",
       "      <td>3</td>\n",
       "      <td>Johnston, Miss. Catherine Helen \"Carrie\"</td>\n",
       "      <td>female</td>\n",
       "      <td>NaN</td>\n",
       "      <td>1</td>\n",
       "      <td>2</td>\n",
       "      <td>W./C. 6607</td>\n",
       "      <td>23.4500</td>\n",
       "      <td>NaN</td>\n",
       "      <td>S</td>\n",
       "    </tr>\n",
       "    <tr>\n",
       "      <th>889</th>\n",
       "      <td>890</td>\n",
       "      <td>1</td>\n",
       "      <td>1</td>\n",
       "      <td>Behr, Mr. Karl Howell</td>\n",
       "      <td>male</td>\n",
       "      <td>26.0</td>\n",
       "      <td>0</td>\n",
       "      <td>0</td>\n",
       "      <td>111369</td>\n",
       "      <td>30.0000</td>\n",
       "      <td>C148</td>\n",
       "      <td>C</td>\n",
       "    </tr>\n",
       "    <tr>\n",
       "      <th>890</th>\n",
       "      <td>891</td>\n",
       "      <td>0</td>\n",
       "      <td>3</td>\n",
       "      <td>Dooley, Mr. Patrick</td>\n",
       "      <td>male</td>\n",
       "      <td>32.0</td>\n",
       "      <td>0</td>\n",
       "      <td>0</td>\n",
       "      <td>370376</td>\n",
       "      <td>7.7500</td>\n",
       "      <td>NaN</td>\n",
       "      <td>Q</td>\n",
       "    </tr>\n",
       "  </tbody>\n",
       "</table>\n",
       "<p>891 rows × 12 columns</p>\n",
       "</div>"
      ],
      "text/plain": [
       "     PassengerId  Survived  Pclass  \\\n",
       "0              1         0       3   \n",
       "1              2         1       1   \n",
       "2              3         1       3   \n",
       "3              4         1       1   \n",
       "4              5         0       3   \n",
       "..           ...       ...     ...   \n",
       "886          887         0       2   \n",
       "887          888         1       1   \n",
       "888          889         0       3   \n",
       "889          890         1       1   \n",
       "890          891         0       3   \n",
       "\n",
       "                                                  Name     Sex   Age  SibSp  \\\n",
       "0                              Braund, Mr. Owen Harris    male  22.0      1   \n",
       "1    Cumings, Mrs. John Bradley (Florence Briggs Th...  female  38.0      1   \n",
       "2                               Heikkinen, Miss. Laina  female  26.0      0   \n",
       "3         Futrelle, Mrs. Jacques Heath (Lily May Peel)  female  35.0      1   \n",
       "4                             Allen, Mr. William Henry    male  35.0      0   \n",
       "..                                                 ...     ...   ...    ...   \n",
       "886                              Montvila, Rev. Juozas    male  27.0      0   \n",
       "887                       Graham, Miss. Margaret Edith  female  19.0      0   \n",
       "888           Johnston, Miss. Catherine Helen \"Carrie\"  female   NaN      1   \n",
       "889                              Behr, Mr. Karl Howell    male  26.0      0   \n",
       "890                                Dooley, Mr. Patrick    male  32.0      0   \n",
       "\n",
       "     Parch            Ticket     Fare Cabin Embarked  \n",
       "0        0         A/5 21171   7.2500   NaN        S  \n",
       "1        0          PC 17599  71.2833   C85        C  \n",
       "2        0  STON/O2. 3101282   7.9250   NaN        S  \n",
       "3        0            113803  53.1000  C123        S  \n",
       "4        0            373450   8.0500   NaN        S  \n",
       "..     ...               ...      ...   ...      ...  \n",
       "886      0            211536  13.0000   NaN        S  \n",
       "887      0            112053  30.0000   B42        S  \n",
       "888      2        W./C. 6607  23.4500   NaN        S  \n",
       "889      0            111369  30.0000  C148        C  \n",
       "890      0            370376   7.7500   NaN        Q  \n",
       "\n",
       "[891 rows x 12 columns]"
      ]
     },
     "execution_count": 6,
     "metadata": {},
     "output_type": "execute_result"
    }
   ],
   "source": [
    "titanic"
   ]
  },
  {
   "cell_type": "code",
   "execution_count": 7,
   "id": "1a461665",
   "metadata": {},
   "outputs": [
    {
     "data": {
      "text/html": [
       "<div>\n",
       "<style scoped>\n",
       "    .dataframe tbody tr th:only-of-type {\n",
       "        vertical-align: middle;\n",
       "    }\n",
       "\n",
       "    .dataframe tbody tr th {\n",
       "        vertical-align: top;\n",
       "    }\n",
       "\n",
       "    .dataframe thead th {\n",
       "        text-align: right;\n",
       "    }\n",
       "</style>\n",
       "<table border=\"1\" class=\"dataframe\">\n",
       "  <thead>\n",
       "    <tr style=\"text-align: right;\">\n",
       "      <th></th>\n",
       "      <th>PassengerId</th>\n",
       "      <th>Survived</th>\n",
       "      <th>Pclass</th>\n",
       "      <th>Name</th>\n",
       "      <th>Sex</th>\n",
       "      <th>Age</th>\n",
       "      <th>SibSp</th>\n",
       "      <th>Parch</th>\n",
       "      <th>Ticket</th>\n",
       "      <th>Fare</th>\n",
       "      <th>Cabin</th>\n",
       "      <th>Embarked</th>\n",
       "    </tr>\n",
       "  </thead>\n",
       "  <tbody>\n",
       "    <tr>\n",
       "      <th>0</th>\n",
       "      <td>1</td>\n",
       "      <td>0</td>\n",
       "      <td>3</td>\n",
       "      <td>Braund, Mr. Owen Harris</td>\n",
       "      <td>male</td>\n",
       "      <td>22.0</td>\n",
       "      <td>1</td>\n",
       "      <td>0</td>\n",
       "      <td>A/5 21171</td>\n",
       "      <td>7.2500</td>\n",
       "      <td>NaN</td>\n",
       "      <td>S</td>\n",
       "    </tr>\n",
       "    <tr>\n",
       "      <th>1</th>\n",
       "      <td>2</td>\n",
       "      <td>1</td>\n",
       "      <td>1</td>\n",
       "      <td>Cumings, Mrs. John Bradley (Florence Briggs Th...</td>\n",
       "      <td>female</td>\n",
       "      <td>38.0</td>\n",
       "      <td>1</td>\n",
       "      <td>0</td>\n",
       "      <td>PC 17599</td>\n",
       "      <td>71.2833</td>\n",
       "      <td>C85</td>\n",
       "      <td>C</td>\n",
       "    </tr>\n",
       "    <tr>\n",
       "      <th>2</th>\n",
       "      <td>3</td>\n",
       "      <td>1</td>\n",
       "      <td>3</td>\n",
       "      <td>Heikkinen, Miss. Laina</td>\n",
       "      <td>female</td>\n",
       "      <td>26.0</td>\n",
       "      <td>0</td>\n",
       "      <td>0</td>\n",
       "      <td>STON/O2. 3101282</td>\n",
       "      <td>7.9250</td>\n",
       "      <td>NaN</td>\n",
       "      <td>S</td>\n",
       "    </tr>\n",
       "    <tr>\n",
       "      <th>3</th>\n",
       "      <td>4</td>\n",
       "      <td>1</td>\n",
       "      <td>1</td>\n",
       "      <td>Futrelle, Mrs. Jacques Heath (Lily May Peel)</td>\n",
       "      <td>female</td>\n",
       "      <td>35.0</td>\n",
       "      <td>1</td>\n",
       "      <td>0</td>\n",
       "      <td>113803</td>\n",
       "      <td>53.1000</td>\n",
       "      <td>C123</td>\n",
       "      <td>S</td>\n",
       "    </tr>\n",
       "    <tr>\n",
       "      <th>4</th>\n",
       "      <td>5</td>\n",
       "      <td>0</td>\n",
       "      <td>3</td>\n",
       "      <td>Allen, Mr. William Henry</td>\n",
       "      <td>male</td>\n",
       "      <td>35.0</td>\n",
       "      <td>0</td>\n",
       "      <td>0</td>\n",
       "      <td>373450</td>\n",
       "      <td>8.0500</td>\n",
       "      <td>NaN</td>\n",
       "      <td>S</td>\n",
       "    </tr>\n",
       "  </tbody>\n",
       "</table>\n",
       "</div>"
      ],
      "text/plain": [
       "   PassengerId  Survived  Pclass  \\\n",
       "0            1         0       3   \n",
       "1            2         1       1   \n",
       "2            3         1       3   \n",
       "3            4         1       1   \n",
       "4            5         0       3   \n",
       "\n",
       "                                                Name     Sex   Age  SibSp  \\\n",
       "0                            Braund, Mr. Owen Harris    male  22.0      1   \n",
       "1  Cumings, Mrs. John Bradley (Florence Briggs Th...  female  38.0      1   \n",
       "2                             Heikkinen, Miss. Laina  female  26.0      0   \n",
       "3       Futrelle, Mrs. Jacques Heath (Lily May Peel)  female  35.0      1   \n",
       "4                           Allen, Mr. William Henry    male  35.0      0   \n",
       "\n",
       "   Parch            Ticket     Fare Cabin Embarked  \n",
       "0      0         A/5 21171   7.2500   NaN        S  \n",
       "1      0          PC 17599  71.2833   C85        C  \n",
       "2      0  STON/O2. 3101282   7.9250   NaN        S  \n",
       "3      0            113803  53.1000  C123        S  \n",
       "4      0            373450   8.0500   NaN        S  "
      ]
     },
     "execution_count": 7,
     "metadata": {},
     "output_type": "execute_result"
    }
   ],
   "source": [
    "titanic.head()\n"
   ]
  },
  {
   "cell_type": "code",
   "execution_count": 8,
   "id": "acd4bb2e",
   "metadata": {},
   "outputs": [
    {
     "data": {
      "text/plain": [
       "(891, 12)"
      ]
     },
     "execution_count": 8,
     "metadata": {},
     "output_type": "execute_result"
    }
   ],
   "source": [
    "titanic.shape\n"
   ]
  },
  {
   "cell_type": "code",
   "execution_count": 9,
   "id": "d7ab348b",
   "metadata": {},
   "outputs": [
    {
     "data": {
      "text/plain": [
       "PassengerId      int64\n",
       "Survived         int64\n",
       "Pclass           int64\n",
       "Name            object\n",
       "Sex             object\n",
       "Age            float64\n",
       "SibSp            int64\n",
       "Parch            int64\n",
       "Ticket          object\n",
       "Fare           float64\n",
       "Cabin           object\n",
       "Embarked        object\n",
       "dtype: object"
      ]
     },
     "execution_count": 9,
     "metadata": {},
     "output_type": "execute_result"
    }
   ],
   "source": [
    "titanic.dtypes\n"
   ]
  },
  {
   "cell_type": "code",
   "execution_count": 10,
   "id": "0baf143c",
   "metadata": {},
   "outputs": [
    {
     "data": {
      "text/html": [
       "<div>\n",
       "<style scoped>\n",
       "    .dataframe tbody tr th:only-of-type {\n",
       "        vertical-align: middle;\n",
       "    }\n",
       "\n",
       "    .dataframe tbody tr th {\n",
       "        vertical-align: top;\n",
       "    }\n",
       "\n",
       "    .dataframe thead th {\n",
       "        text-align: right;\n",
       "    }\n",
       "</style>\n",
       "<table border=\"1\" class=\"dataframe\">\n",
       "  <thead>\n",
       "    <tr style=\"text-align: right;\">\n",
       "      <th></th>\n",
       "      <th>PassengerId</th>\n",
       "      <th>Survived</th>\n",
       "      <th>Pclass</th>\n",
       "      <th>Age</th>\n",
       "      <th>SibSp</th>\n",
       "      <th>Parch</th>\n",
       "      <th>Fare</th>\n",
       "    </tr>\n",
       "  </thead>\n",
       "  <tbody>\n",
       "    <tr>\n",
       "      <th>count</th>\n",
       "      <td>891.000000</td>\n",
       "      <td>891.000000</td>\n",
       "      <td>891.000000</td>\n",
       "      <td>714.000000</td>\n",
       "      <td>891.000000</td>\n",
       "      <td>891.000000</td>\n",
       "      <td>891.000000</td>\n",
       "    </tr>\n",
       "    <tr>\n",
       "      <th>mean</th>\n",
       "      <td>446.000000</td>\n",
       "      <td>0.383838</td>\n",
       "      <td>2.308642</td>\n",
       "      <td>29.699118</td>\n",
       "      <td>0.523008</td>\n",
       "      <td>0.381594</td>\n",
       "      <td>32.204208</td>\n",
       "    </tr>\n",
       "    <tr>\n",
       "      <th>std</th>\n",
       "      <td>257.353842</td>\n",
       "      <td>0.486592</td>\n",
       "      <td>0.836071</td>\n",
       "      <td>14.526497</td>\n",
       "      <td>1.102743</td>\n",
       "      <td>0.806057</td>\n",
       "      <td>49.693429</td>\n",
       "    </tr>\n",
       "    <tr>\n",
       "      <th>min</th>\n",
       "      <td>1.000000</td>\n",
       "      <td>0.000000</td>\n",
       "      <td>1.000000</td>\n",
       "      <td>0.420000</td>\n",
       "      <td>0.000000</td>\n",
       "      <td>0.000000</td>\n",
       "      <td>0.000000</td>\n",
       "    </tr>\n",
       "    <tr>\n",
       "      <th>25%</th>\n",
       "      <td>223.500000</td>\n",
       "      <td>0.000000</td>\n",
       "      <td>2.000000</td>\n",
       "      <td>20.125000</td>\n",
       "      <td>0.000000</td>\n",
       "      <td>0.000000</td>\n",
       "      <td>7.910400</td>\n",
       "    </tr>\n",
       "    <tr>\n",
       "      <th>50%</th>\n",
       "      <td>446.000000</td>\n",
       "      <td>0.000000</td>\n",
       "      <td>3.000000</td>\n",
       "      <td>28.000000</td>\n",
       "      <td>0.000000</td>\n",
       "      <td>0.000000</td>\n",
       "      <td>14.454200</td>\n",
       "    </tr>\n",
       "    <tr>\n",
       "      <th>75%</th>\n",
       "      <td>668.500000</td>\n",
       "      <td>1.000000</td>\n",
       "      <td>3.000000</td>\n",
       "      <td>38.000000</td>\n",
       "      <td>1.000000</td>\n",
       "      <td>0.000000</td>\n",
       "      <td>31.000000</td>\n",
       "    </tr>\n",
       "    <tr>\n",
       "      <th>max</th>\n",
       "      <td>891.000000</td>\n",
       "      <td>1.000000</td>\n",
       "      <td>3.000000</td>\n",
       "      <td>80.000000</td>\n",
       "      <td>8.000000</td>\n",
       "      <td>6.000000</td>\n",
       "      <td>512.329200</td>\n",
       "    </tr>\n",
       "  </tbody>\n",
       "</table>\n",
       "</div>"
      ],
      "text/plain": [
       "       PassengerId    Survived      Pclass         Age       SibSp  \\\n",
       "count   891.000000  891.000000  891.000000  714.000000  891.000000   \n",
       "mean    446.000000    0.383838    2.308642   29.699118    0.523008   \n",
       "std     257.353842    0.486592    0.836071   14.526497    1.102743   \n",
       "min       1.000000    0.000000    1.000000    0.420000    0.000000   \n",
       "25%     223.500000    0.000000    2.000000   20.125000    0.000000   \n",
       "50%     446.000000    0.000000    3.000000   28.000000    0.000000   \n",
       "75%     668.500000    1.000000    3.000000   38.000000    1.000000   \n",
       "max     891.000000    1.000000    3.000000   80.000000    8.000000   \n",
       "\n",
       "            Parch        Fare  \n",
       "count  891.000000  891.000000  \n",
       "mean     0.381594   32.204208  \n",
       "std      0.806057   49.693429  \n",
       "min      0.000000    0.000000  \n",
       "25%      0.000000    7.910400  \n",
       "50%      0.000000   14.454200  \n",
       "75%      0.000000   31.000000  \n",
       "max      6.000000  512.329200  "
      ]
     },
     "execution_count": 10,
     "metadata": {},
     "output_type": "execute_result"
    }
   ],
   "source": [
    "titanic.describe()\n"
   ]
  },
  {
   "cell_type": "code",
   "execution_count": 16,
   "id": "f4b6b666",
   "metadata": {},
   "outputs": [
    {
     "data": {
      "text/plain": [
       "PassengerId      0\n",
       "Survived         0\n",
       "Pclass           0\n",
       "Name             0\n",
       "Sex              0\n",
       "Age            177\n",
       "SibSp            0\n",
       "Parch            0\n",
       "Ticket           0\n",
       "Fare             0\n",
       "Cabin          687\n",
       "Embarked         2\n",
       "dtype: int64"
      ]
     },
     "execution_count": 16,
     "metadata": {},
     "output_type": "execute_result"
    }
   ],
   "source": [
    "titanic.isnull().sum()\n"
   ]
  },
  {
   "cell_type": "code",
   "execution_count": 24,
   "id": "42b7466e",
   "metadata": {},
   "outputs": [],
   "source": [
    "mean_age = titanic['Age'].mean()\n"
   ]
  },
  {
   "cell_type": "code",
   "execution_count": 25,
   "id": "cb46074b",
   "metadata": {},
   "outputs": [
    {
     "data": {
      "text/plain": [
       "29.699117647058763"
      ]
     },
     "execution_count": 25,
     "metadata": {},
     "output_type": "execute_result"
    }
   ],
   "source": [
    "mean_age"
   ]
  },
  {
   "cell_type": "code",
   "execution_count": 28,
   "id": "716c78e0",
   "metadata": {},
   "outputs": [],
   "source": [
    "titanic['Age'].fillna(mean_age, inplace=True)"
   ]
  },
  {
   "cell_type": "code",
   "execution_count": 31,
   "id": "bf794d8d",
   "metadata": {},
   "outputs": [],
   "source": [
    "titanic.drop(['Fare'], axis=1, inplace=True)\n"
   ]
  },
  {
   "cell_type": "code",
   "execution_count": 33,
   "id": "85797ccf",
   "metadata": {},
   "outputs": [
    {
     "data": {
      "text/html": [
       "<div>\n",
       "<style scoped>\n",
       "    .dataframe tbody tr th:only-of-type {\n",
       "        vertical-align: middle;\n",
       "    }\n",
       "\n",
       "    .dataframe tbody tr th {\n",
       "        vertical-align: top;\n",
       "    }\n",
       "\n",
       "    .dataframe thead th {\n",
       "        text-align: right;\n",
       "    }\n",
       "</style>\n",
       "<table border=\"1\" class=\"dataframe\">\n",
       "  <thead>\n",
       "    <tr style=\"text-align: right;\">\n",
       "      <th></th>\n",
       "      <th>PassengerId</th>\n",
       "      <th>Survived</th>\n",
       "      <th>Pclass</th>\n",
       "      <th>Name</th>\n",
       "      <th>Sex</th>\n",
       "      <th>Age</th>\n",
       "      <th>SibSp</th>\n",
       "      <th>Parch</th>\n",
       "      <th>Ticket</th>\n",
       "      <th>Cabin</th>\n",
       "      <th>Embarked</th>\n",
       "    </tr>\n",
       "  </thead>\n",
       "  <tbody>\n",
       "    <tr>\n",
       "      <th>0</th>\n",
       "      <td>1</td>\n",
       "      <td>0</td>\n",
       "      <td>3</td>\n",
       "      <td>Braund, Mr. Owen Harris</td>\n",
       "      <td>male</td>\n",
       "      <td>22.0</td>\n",
       "      <td>1</td>\n",
       "      <td>0</td>\n",
       "      <td>A/5 21171</td>\n",
       "      <td>29.699118</td>\n",
       "      <td>S</td>\n",
       "    </tr>\n",
       "    <tr>\n",
       "      <th>1</th>\n",
       "      <td>2</td>\n",
       "      <td>1</td>\n",
       "      <td>1</td>\n",
       "      <td>Cumings, Mrs. John Bradley (Florence Briggs Th...</td>\n",
       "      <td>female</td>\n",
       "      <td>38.0</td>\n",
       "      <td>1</td>\n",
       "      <td>0</td>\n",
       "      <td>PC 17599</td>\n",
       "      <td>C85</td>\n",
       "      <td>C</td>\n",
       "    </tr>\n",
       "  </tbody>\n",
       "</table>\n",
       "</div>"
      ],
      "text/plain": [
       "   PassengerId  Survived  Pclass  \\\n",
       "0            1         0       3   \n",
       "1            2         1       1   \n",
       "\n",
       "                                                Name     Sex   Age  SibSp  \\\n",
       "0                            Braund, Mr. Owen Harris    male  22.0      1   \n",
       "1  Cumings, Mrs. John Bradley (Florence Briggs Th...  female  38.0      1   \n",
       "\n",
       "   Parch     Ticket      Cabin Embarked  \n",
       "0      0  A/5 21171  29.699118        S  \n",
       "1      0   PC 17599        C85        C  "
      ]
     },
     "execution_count": 33,
     "metadata": {},
     "output_type": "execute_result"
    }
   ],
   "source": [
    "titanic.head(2)\n"
   ]
  },
  {
   "cell_type": "code",
   "execution_count": 35,
   "id": "1c954c12",
   "metadata": {},
   "outputs": [
    {
     "data": {
      "text/html": [
       "<div>\n",
       "<style scoped>\n",
       "    .dataframe tbody tr th:only-of-type {\n",
       "        vertical-align: middle;\n",
       "    }\n",
       "\n",
       "    .dataframe tbody tr th {\n",
       "        vertical-align: top;\n",
       "    }\n",
       "\n",
       "    .dataframe thead th {\n",
       "        text-align: right;\n",
       "    }\n",
       "</style>\n",
       "<table border=\"1\" class=\"dataframe\">\n",
       "  <thead>\n",
       "    <tr style=\"text-align: right;\">\n",
       "      <th></th>\n",
       "      <th>PassengerId</th>\n",
       "      <th>Survived</th>\n",
       "      <th>Pclass</th>\n",
       "      <th>Name</th>\n",
       "      <th>Sex</th>\n",
       "      <th>Age</th>\n",
       "      <th>SibSp</th>\n",
       "      <th>Parch</th>\n",
       "      <th>Ticket</th>\n",
       "      <th>Cabin</th>\n",
       "      <th>Embarked</th>\n",
       "    </tr>\n",
       "  </thead>\n",
       "  <tbody>\n",
       "    <tr>\n",
       "      <th>630</th>\n",
       "      <td>631</td>\n",
       "      <td>1</td>\n",
       "      <td>1</td>\n",
       "      <td>Barkworth, Mr. Algernon Henry Wilson</td>\n",
       "      <td>male</td>\n",
       "      <td>80.00</td>\n",
       "      <td>0</td>\n",
       "      <td>0</td>\n",
       "      <td>27042</td>\n",
       "      <td>A23</td>\n",
       "      <td>S</td>\n",
       "    </tr>\n",
       "    <tr>\n",
       "      <th>851</th>\n",
       "      <td>852</td>\n",
       "      <td>0</td>\n",
       "      <td>3</td>\n",
       "      <td>Svensson, Mr. Johan</td>\n",
       "      <td>male</td>\n",
       "      <td>74.00</td>\n",
       "      <td>0</td>\n",
       "      <td>0</td>\n",
       "      <td>347060</td>\n",
       "      <td>29.699118</td>\n",
       "      <td>S</td>\n",
       "    </tr>\n",
       "    <tr>\n",
       "      <th>96</th>\n",
       "      <td>97</td>\n",
       "      <td>0</td>\n",
       "      <td>1</td>\n",
       "      <td>Goldschmidt, Mr. George B</td>\n",
       "      <td>male</td>\n",
       "      <td>71.00</td>\n",
       "      <td>0</td>\n",
       "      <td>0</td>\n",
       "      <td>PC 17754</td>\n",
       "      <td>A5</td>\n",
       "      <td>C</td>\n",
       "    </tr>\n",
       "    <tr>\n",
       "      <th>493</th>\n",
       "      <td>494</td>\n",
       "      <td>0</td>\n",
       "      <td>1</td>\n",
       "      <td>Artagaveytia, Mr. Ramon</td>\n",
       "      <td>male</td>\n",
       "      <td>71.00</td>\n",
       "      <td>0</td>\n",
       "      <td>0</td>\n",
       "      <td>PC 17609</td>\n",
       "      <td>29.699118</td>\n",
       "      <td>C</td>\n",
       "    </tr>\n",
       "    <tr>\n",
       "      <th>116</th>\n",
       "      <td>117</td>\n",
       "      <td>0</td>\n",
       "      <td>3</td>\n",
       "      <td>Connors, Mr. Patrick</td>\n",
       "      <td>male</td>\n",
       "      <td>70.50</td>\n",
       "      <td>0</td>\n",
       "      <td>0</td>\n",
       "      <td>370369</td>\n",
       "      <td>29.699118</td>\n",
       "      <td>Q</td>\n",
       "    </tr>\n",
       "    <tr>\n",
       "      <th>...</th>\n",
       "      <td>...</td>\n",
       "      <td>...</td>\n",
       "      <td>...</td>\n",
       "      <td>...</td>\n",
       "      <td>...</td>\n",
       "      <td>...</td>\n",
       "      <td>...</td>\n",
       "      <td>...</td>\n",
       "      <td>...</td>\n",
       "      <td>...</td>\n",
       "      <td>...</td>\n",
       "    </tr>\n",
       "    <tr>\n",
       "      <th>831</th>\n",
       "      <td>832</td>\n",
       "      <td>1</td>\n",
       "      <td>2</td>\n",
       "      <td>Richards, Master. George Sibley</td>\n",
       "      <td>male</td>\n",
       "      <td>0.83</td>\n",
       "      <td>1</td>\n",
       "      <td>1</td>\n",
       "      <td>29106</td>\n",
       "      <td>29.699118</td>\n",
       "      <td>S</td>\n",
       "    </tr>\n",
       "    <tr>\n",
       "      <th>469</th>\n",
       "      <td>470</td>\n",
       "      <td>1</td>\n",
       "      <td>3</td>\n",
       "      <td>Baclini, Miss. Helene Barbara</td>\n",
       "      <td>female</td>\n",
       "      <td>0.75</td>\n",
       "      <td>2</td>\n",
       "      <td>1</td>\n",
       "      <td>2666</td>\n",
       "      <td>29.699118</td>\n",
       "      <td>C</td>\n",
       "    </tr>\n",
       "    <tr>\n",
       "      <th>644</th>\n",
       "      <td>645</td>\n",
       "      <td>1</td>\n",
       "      <td>3</td>\n",
       "      <td>Baclini, Miss. Eugenie</td>\n",
       "      <td>female</td>\n",
       "      <td>0.75</td>\n",
       "      <td>2</td>\n",
       "      <td>1</td>\n",
       "      <td>2666</td>\n",
       "      <td>29.699118</td>\n",
       "      <td>C</td>\n",
       "    </tr>\n",
       "    <tr>\n",
       "      <th>755</th>\n",
       "      <td>756</td>\n",
       "      <td>1</td>\n",
       "      <td>2</td>\n",
       "      <td>Hamalainen, Master. Viljo</td>\n",
       "      <td>male</td>\n",
       "      <td>0.67</td>\n",
       "      <td>1</td>\n",
       "      <td>1</td>\n",
       "      <td>250649</td>\n",
       "      <td>29.699118</td>\n",
       "      <td>S</td>\n",
       "    </tr>\n",
       "    <tr>\n",
       "      <th>803</th>\n",
       "      <td>804</td>\n",
       "      <td>1</td>\n",
       "      <td>3</td>\n",
       "      <td>Thomas, Master. Assad Alexander</td>\n",
       "      <td>male</td>\n",
       "      <td>0.42</td>\n",
       "      <td>0</td>\n",
       "      <td>1</td>\n",
       "      <td>2625</td>\n",
       "      <td>29.699118</td>\n",
       "      <td>C</td>\n",
       "    </tr>\n",
       "  </tbody>\n",
       "</table>\n",
       "<p>891 rows × 11 columns</p>\n",
       "</div>"
      ],
      "text/plain": [
       "     PassengerId  Survived  Pclass                                  Name  \\\n",
       "630          631         1       1  Barkworth, Mr. Algernon Henry Wilson   \n",
       "851          852         0       3                   Svensson, Mr. Johan   \n",
       "96            97         0       1             Goldschmidt, Mr. George B   \n",
       "493          494         0       1               Artagaveytia, Mr. Ramon   \n",
       "116          117         0       3                  Connors, Mr. Patrick   \n",
       "..           ...       ...     ...                                   ...   \n",
       "831          832         1       2       Richards, Master. George Sibley   \n",
       "469          470         1       3         Baclini, Miss. Helene Barbara   \n",
       "644          645         1       3                Baclini, Miss. Eugenie   \n",
       "755          756         1       2             Hamalainen, Master. Viljo   \n",
       "803          804         1       3       Thomas, Master. Assad Alexander   \n",
       "\n",
       "        Sex    Age  SibSp  Parch    Ticket      Cabin Embarked  \n",
       "630    male  80.00      0      0     27042        A23        S  \n",
       "851    male  74.00      0      0    347060  29.699118        S  \n",
       "96     male  71.00      0      0  PC 17754         A5        C  \n",
       "493    male  71.00      0      0  PC 17609  29.699118        C  \n",
       "116    male  70.50      0      0    370369  29.699118        Q  \n",
       "..      ...    ...    ...    ...       ...        ...      ...  \n",
       "831    male   0.83      1      1     29106  29.699118        S  \n",
       "469  female   0.75      2      1      2666  29.699118        C  \n",
       "644  female   0.75      2      1      2666  29.699118        C  \n",
       "755    male   0.67      1      1    250649  29.699118        S  \n",
       "803    male   0.42      0      1      2625  29.699118        C  \n",
       "\n",
       "[891 rows x 11 columns]"
      ]
     },
     "execution_count": 35,
     "metadata": {},
     "output_type": "execute_result"
    }
   ],
   "source": [
    "titanic.sort_values(by='Age', ascending=False)\n"
   ]
  },
  {
   "cell_type": "code",
   "execution_count": 38,
   "id": "ef09fb73",
   "metadata": {},
   "outputs": [],
   "source": [
    "titanic['Jp'] = titanic['SibSp'] + titanic['Parch']\n"
   ]
  },
  {
   "cell_type": "code",
   "execution_count": 39,
   "id": "6d71b03b",
   "metadata": {},
   "outputs": [
    {
     "data": {
      "text/plain": [
       "0      1\n",
       "1      1\n",
       "2      0\n",
       "3      1\n",
       "4      0\n",
       "      ..\n",
       "886    0\n",
       "887    0\n",
       "888    3\n",
       "889    0\n",
       "890    0\n",
       "Name: Jp, Length: 891, dtype: int64"
      ]
     },
     "execution_count": 39,
     "metadata": {},
     "output_type": "execute_result"
    }
   ],
   "source": [
    "titanic['Jp']"
   ]
  },
  {
   "cell_type": "code",
   "execution_count": 40,
   "id": "7cecf70f",
   "metadata": {},
   "outputs": [],
   "source": [
    "titanic.rename(columns={'Sex': 'Jati', 'Age': 'Umar'}, inplace=True)\n"
   ]
  },
  {
   "cell_type": "code",
   "execution_count": 41,
   "id": "c92377fb",
   "metadata": {},
   "outputs": [
    {
     "data": {
      "text/html": [
       "<div>\n",
       "<style scoped>\n",
       "    .dataframe tbody tr th:only-of-type {\n",
       "        vertical-align: middle;\n",
       "    }\n",
       "\n",
       "    .dataframe tbody tr th {\n",
       "        vertical-align: top;\n",
       "    }\n",
       "\n",
       "    .dataframe thead th {\n",
       "        text-align: right;\n",
       "    }\n",
       "</style>\n",
       "<table border=\"1\" class=\"dataframe\">\n",
       "  <thead>\n",
       "    <tr style=\"text-align: right;\">\n",
       "      <th></th>\n",
       "      <th>PassengerId</th>\n",
       "      <th>Survived</th>\n",
       "      <th>Pclass</th>\n",
       "      <th>Name</th>\n",
       "      <th>Jati</th>\n",
       "      <th>Umar</th>\n",
       "      <th>SibSp</th>\n",
       "      <th>Parch</th>\n",
       "      <th>Ticket</th>\n",
       "      <th>Cabin</th>\n",
       "      <th>Embarked</th>\n",
       "      <th>Jp</th>\n",
       "    </tr>\n",
       "  </thead>\n",
       "  <tbody>\n",
       "    <tr>\n",
       "      <th>0</th>\n",
       "      <td>1</td>\n",
       "      <td>0</td>\n",
       "      <td>3</td>\n",
       "      <td>Braund, Mr. Owen Harris</td>\n",
       "      <td>male</td>\n",
       "      <td>22.0</td>\n",
       "      <td>1</td>\n",
       "      <td>0</td>\n",
       "      <td>A/5 21171</td>\n",
       "      <td>29.699118</td>\n",
       "      <td>S</td>\n",
       "      <td>1</td>\n",
       "    </tr>\n",
       "    <tr>\n",
       "      <th>1</th>\n",
       "      <td>2</td>\n",
       "      <td>1</td>\n",
       "      <td>1</td>\n",
       "      <td>Cumings, Mrs. John Bradley (Florence Briggs Th...</td>\n",
       "      <td>female</td>\n",
       "      <td>38.0</td>\n",
       "      <td>1</td>\n",
       "      <td>0</td>\n",
       "      <td>PC 17599</td>\n",
       "      <td>C85</td>\n",
       "      <td>C</td>\n",
       "      <td>1</td>\n",
       "    </tr>\n",
       "    <tr>\n",
       "      <th>2</th>\n",
       "      <td>3</td>\n",
       "      <td>1</td>\n",
       "      <td>3</td>\n",
       "      <td>Heikkinen, Miss. Laina</td>\n",
       "      <td>female</td>\n",
       "      <td>26.0</td>\n",
       "      <td>0</td>\n",
       "      <td>0</td>\n",
       "      <td>STON/O2. 3101282</td>\n",
       "      <td>29.699118</td>\n",
       "      <td>S</td>\n",
       "      <td>0</td>\n",
       "    </tr>\n",
       "  </tbody>\n",
       "</table>\n",
       "</div>"
      ],
      "text/plain": [
       "   PassengerId  Survived  Pclass  \\\n",
       "0            1         0       3   \n",
       "1            2         1       1   \n",
       "2            3         1       3   \n",
       "\n",
       "                                                Name    Jati  Umar  SibSp  \\\n",
       "0                            Braund, Mr. Owen Harris    male  22.0      1   \n",
       "1  Cumings, Mrs. John Bradley (Florence Briggs Th...  female  38.0      1   \n",
       "2                             Heikkinen, Miss. Laina  female  26.0      0   \n",
       "\n",
       "   Parch            Ticket      Cabin Embarked  Jp  \n",
       "0      0         A/5 21171  29.699118        S   1  \n",
       "1      0          PC 17599        C85        C   1  \n",
       "2      0  STON/O2. 3101282  29.699118        S   0  "
      ]
     },
     "execution_count": 41,
     "metadata": {},
     "output_type": "execute_result"
    }
   ],
   "source": [
    "titanic.head(3)"
   ]
  },
  {
   "cell_type": "code",
   "execution_count": 42,
   "id": "0769ece9",
   "metadata": {},
   "outputs": [],
   "source": [
    "import numpy as np"
   ]
  },
  {
   "cell_type": "code",
   "execution_count": 43,
   "id": "8307f629",
   "metadata": {},
   "outputs": [],
   "source": [
    "titanic = np.genfromtxt('titanic.csv', delimiter=',', skip_header=1)"
   ]
  },
  {
   "cell_type": "code",
   "execution_count": 45,
   "id": "6aa6a5f8",
   "metadata": {},
   "outputs": [
    {
     "data": {
      "text/plain": [
       "(891, 13)"
      ]
     },
     "execution_count": 45,
     "metadata": {},
     "output_type": "execute_result"
    }
   ],
   "source": [
    "titanic.shape\n"
   ]
  },
  {
   "cell_type": "code",
   "execution_count": 46,
   "id": "7870fda9",
   "metadata": {},
   "outputs": [
    {
     "data": {
      "text/plain": [
       "dtype('float64')"
      ]
     },
     "execution_count": 46,
     "metadata": {},
     "output_type": "execute_result"
    }
   ],
   "source": [
    "titanic.dtype\n"
   ]
  },
  {
   "cell_type": "code",
   "execution_count": 47,
   "id": "02c3cabf",
   "metadata": {},
   "outputs": [
    {
     "data": {
      "text/plain": [
       "4862"
      ]
     },
     "execution_count": 47,
     "metadata": {},
     "output_type": "execute_result"
    }
   ],
   "source": [
    "np.isnan(titanic).sum()\n"
   ]
  },
  {
   "cell_type": "code",
   "execution_count": 51,
   "id": "012ce122",
   "metadata": {},
   "outputs": [
    {
     "name": "stderr",
     "output_type": "stream",
     "text": [
      "C:\\Users\\jinendra\\AppData\\Local\\Temp/ipykernel_4704/2523014181.py:1: RuntimeWarning: Mean of empty slice\n",
      "  mean_age = np.nanmean(titanic[:, 4])\n"
     ]
    }
   ],
   "source": [
    "mean_age = np.nanmean(titanic[:, 4])"
   ]
  },
  {
   "cell_type": "code",
   "execution_count": 52,
   "id": "d354e10a",
   "metadata": {},
   "outputs": [
    {
     "data": {
      "text/plain": [
       "nan"
      ]
     },
     "execution_count": 52,
     "metadata": {},
     "output_type": "execute_result"
    }
   ],
   "source": [
    "mean_age"
   ]
  },
  {
   "cell_type": "code",
   "execution_count": 53,
   "id": "de9aa1f3",
   "metadata": {},
   "outputs": [],
   "source": [
    "titanic[np.isnan(titanic[:, 4]), 4] = mean_age"
   ]
  },
  {
   "cell_type": "code",
   "execution_count": 54,
   "id": "e7ea0fdb",
   "metadata": {},
   "outputs": [
    {
     "data": {
      "text/plain": [
       "nan"
      ]
     },
     "execution_count": 54,
     "metadata": {},
     "output_type": "execute_result"
    }
   ],
   "source": [
    "mean_age"
   ]
  },
  {
   "cell_type": "code",
   "execution_count": 55,
   "id": "b27300e0",
   "metadata": {},
   "outputs": [
    {
     "data": {
      "text/plain": [
       "array([[  1.    ,      nan,      nan, ...,   7.25  ,      nan,      nan],\n",
       "       [  2.    ,      nan,      nan, ...,  71.2833,      nan,      nan],\n",
       "       [  3.    ,      nan,      nan, ...,   7.925 ,      nan,      nan],\n",
       "       ...,\n",
       "       [889.    ,      nan,      nan, ...,  23.45  ,      nan,      nan],\n",
       "       [890.    ,      nan,      nan, ...,  30.    ,      nan,      nan],\n",
       "       [891.    ,      nan,      nan, ...,   7.75  ,      nan,      nan]])"
      ]
     },
     "execution_count": 55,
     "metadata": {},
     "output_type": "execute_result"
    }
   ],
   "source": [
    "titanic = np.delete(titanic, [1, 2], axis=1)\n",
    "titanic"
   ]
  },
  {
   "cell_type": "code",
   "execution_count": 56,
   "id": "6647c684",
   "metadata": {},
   "outputs": [
    {
     "data": {
      "text/plain": [
       "nan"
      ]
     },
     "execution_count": 56,
     "metadata": {},
     "output_type": "execute_result"
    }
   ],
   "source": [
    "np.mean(titanic[:, 2], axis=0)\n"
   ]
  },
  {
   "cell_type": "code",
   "execution_count": 57,
   "id": "e0ffcb81",
   "metadata": {},
   "outputs": [
    {
     "data": {
      "text/plain": [
       "array([[7.000000e+00,          nan,          nan,          nan,\n",
       "        5.400000e+01, 0.000000e+00, 0.000000e+00, 1.746300e+04,\n",
       "        5.186250e+01,          nan,          nan],\n",
       "       [1.200000e+01,          nan,          nan,          nan,\n",
       "        5.800000e+01, 0.000000e+00, 0.000000e+00, 1.137830e+05,\n",
       "        2.655000e+01,          nan,          nan],\n",
       "       [1.600000e+01,          nan,          nan,          nan,\n",
       "        5.500000e+01, 0.000000e+00, 0.000000e+00, 2.487060e+05,\n",
       "        1.600000e+01,          nan,          nan],\n",
       "       [3.400000e+01,          nan,          nan,          nan,\n",
       "        6.600000e+01, 0.000000e+00, 0.000000e+00,          nan,\n",
       "        1.050000e+01,          nan,          nan],\n",
       "       [5.500000e+01,          nan,          nan,          nan,\n",
       "        6.500000e+01, 0.000000e+00, 1.000000e+00, 1.135090e+05,\n",
       "        6.197920e+01,          nan,          nan],\n",
       "       [9.500000e+01,          nan,          nan,          nan,\n",
       "        5.900000e+01, 0.000000e+00, 0.000000e+00, 3.645000e+05,\n",
       "        7.250000e+00,          nan,          nan],\n",
       "       [9.700000e+01,          nan,          nan,          nan,\n",
       "        7.100000e+01, 0.000000e+00, 0.000000e+00,          nan,\n",
       "        3.465420e+01,          nan,          nan],\n",
       "       [1.170000e+02,          nan,          nan,          nan,\n",
       "        7.050000e+01, 0.000000e+00, 0.000000e+00, 3.703690e+05,\n",
       "        7.750000e+00,          nan,          nan],\n",
       "       [1.250000e+02,          nan,          nan,          nan,\n",
       "        5.400000e+01, 0.000000e+00, 1.000000e+00, 3.528100e+04,\n",
       "        7.728750e+01,          nan,          nan],\n",
       "       [1.510000e+02,          nan,          nan,          nan,\n",
       "        5.100000e+01, 0.000000e+00, 0.000000e+00,          nan,\n",
       "        1.252500e+01,          nan,          nan],\n",
       "       [1.530000e+02,          nan,          nan,          nan,\n",
       "        5.550000e+01, 0.000000e+00, 0.000000e+00,          nan,\n",
       "        8.050000e+00,          nan,          nan],\n",
       "       [1.560000e+02,          nan,          nan,          nan,\n",
       "        5.100000e+01, 0.000000e+00, 1.000000e+00,          nan,\n",
       "        6.137920e+01,          nan,          nan],\n",
       "       [1.710000e+02,          nan,          nan,          nan,\n",
       "        6.100000e+01, 0.000000e+00, 0.000000e+00, 1.112400e+05,\n",
       "        3.350000e+01,          nan,          nan],\n",
       "       [1.750000e+02,          nan,          nan,          nan,\n",
       "        5.600000e+01, 0.000000e+00, 0.000000e+00, 1.776400e+04,\n",
       "        3.069580e+01,          nan,          nan],\n",
       "       [1.960000e+02,          nan,          nan,          nan,\n",
       "        5.800000e+01, 0.000000e+00, 0.000000e+00,          nan,\n",
       "        1.465208e+02,          nan,          nan],\n",
       "       [2.230000e+02,          nan,          nan,          nan,\n",
       "        5.100000e+01, 0.000000e+00, 0.000000e+00, 2.144000e+04,\n",
       "        8.050000e+00,          nan,          nan],\n",
       "       [2.330000e+02,          nan,          nan,          nan,\n",
       "        5.900000e+01, 0.000000e+00, 0.000000e+00, 2.374420e+05,\n",
       "        1.350000e+01,          nan,          nan],\n",
       "       [2.500000e+02,          nan,          nan,          nan,\n",
       "        5.400000e+01, 1.000000e+00, 0.000000e+00, 2.442520e+05,\n",
       "        2.600000e+01,          nan,          nan],\n",
       "       [2.530000e+02,          nan,          nan,          nan,\n",
       "        6.200000e+01, 0.000000e+00, 0.000000e+00, 1.135140e+05,\n",
       "        2.655000e+01,          nan,          nan],\n",
       "       [2.630000e+02,          nan,          nan,          nan,\n",
       "        5.200000e+01, 1.000000e+00, 1.000000e+00, 1.104130e+05,\n",
       "        7.965000e+01,          nan,          nan],\n",
       "       [2.690000e+02,          nan,          nan,          nan,\n",
       "        5.800000e+01, 0.000000e+00, 1.000000e+00,          nan,\n",
       "        1.534625e+02,          nan,          nan],\n",
       "       [2.760000e+02,          nan,          nan,          nan,\n",
       "        6.300000e+01, 1.000000e+00, 0.000000e+00, 1.350200e+04,\n",
       "        7.795830e+01,          nan,          nan],\n",
       "       [2.810000e+02,          nan,          nan,          nan,\n",
       "        6.500000e+01, 0.000000e+00, 0.000000e+00, 3.364390e+05,\n",
       "        7.750000e+00,          nan,          nan],\n",
       "       [3.180000e+02,          nan,          nan,          nan,\n",
       "        5.400000e+01, 0.000000e+00, 0.000000e+00, 2.901100e+04,\n",
       "        1.400000e+01,          nan,          nan],\n",
       "       [3.270000e+02,          nan,          nan,          nan,\n",
       "        6.100000e+01, 0.000000e+00, 0.000000e+00, 3.453640e+05,\n",
       "        6.237500e+00,          nan,          nan],\n",
       "       [3.670000e+02,          nan,          nan,          nan,\n",
       "        6.000000e+01, 1.000000e+00, 0.000000e+00, 1.108130e+05,\n",
       "        7.525000e+01,          nan,          nan],\n",
       "       [4.070000e+02,          nan,          nan,          nan,\n",
       "        5.100000e+01, 0.000000e+00, 0.000000e+00, 3.470640e+05,\n",
       "        7.750000e+00,          nan,          nan],\n",
       "       [4.390000e+02,          nan,          nan,          nan,\n",
       "        6.400000e+01, 1.000000e+00, 4.000000e+00, 1.995000e+04,\n",
       "        2.630000e+02,          nan,          nan],\n",
       "       [4.500000e+02,          nan,          nan,          nan,\n",
       "        5.200000e+01, 0.000000e+00, 0.000000e+00, 1.137860e+05,\n",
       "        3.050000e+01,          nan,          nan],\n",
       "       [4.570000e+02,          nan,          nan,          nan,\n",
       "        6.500000e+01, 0.000000e+00, 0.000000e+00, 1.350900e+04,\n",
       "        2.655000e+01,          nan,          nan],\n",
       "       [4.680000e+02,          nan,          nan,          nan,\n",
       "        5.600000e+01, 0.000000e+00, 0.000000e+00, 1.137920e+05,\n",
       "        2.655000e+01,          nan,          nan],\n",
       "       [4.840000e+02,          nan,          nan,          nan,\n",
       "        6.300000e+01, 0.000000e+00, 0.000000e+00, 4.134000e+03,\n",
       "        9.587500e+00,          nan,          nan],\n",
       "       [4.880000e+02,          nan,          nan,          nan,\n",
       "        5.800000e+01, 0.000000e+00, 0.000000e+00, 1.177100e+04,\n",
       "        2.970000e+01,          nan,          nan],\n",
       "       [4.930000e+02,          nan,          nan,          nan,\n",
       "        5.500000e+01, 0.000000e+00, 0.000000e+00, 1.137870e+05,\n",
       "        3.050000e+01,          nan,          nan],\n",
       "       [4.940000e+02,          nan,          nan,          nan,\n",
       "        7.100000e+01, 0.000000e+00, 0.000000e+00,          nan,\n",
       "        4.950420e+01,          nan,          nan],\n",
       "       [4.970000e+02,          nan,          nan,          nan,\n",
       "        5.400000e+01, 1.000000e+00, 0.000000e+00, 3.694700e+04,\n",
       "        7.826670e+01,          nan,          nan],\n",
       "       [5.140000e+02,          nan,          nan,          nan,\n",
       "        5.400000e+01, 1.000000e+00, 0.000000e+00,          nan,\n",
       "        5.940000e+01,          nan,          nan],\n",
       "       [5.460000e+02,          nan,          nan,          nan,\n",
       "        6.400000e+01, 0.000000e+00, 0.000000e+00, 6.930000e+02,\n",
       "        2.600000e+01,          nan,          nan],\n",
       "       [5.560000e+02,          nan,          nan,          nan,\n",
       "        6.200000e+01, 0.000000e+00, 0.000000e+00, 1.138070e+05,\n",
       "        2.655000e+01,          nan,          nan],\n",
       "       [5.710000e+02,          nan,          nan,          nan,\n",
       "        6.200000e+01, 0.000000e+00, 0.000000e+00,          nan,\n",
       "        1.050000e+01,          nan,          nan],\n",
       "       [5.720000e+02,          nan,          nan,          nan,\n",
       "        5.300000e+01, 2.000000e+00, 0.000000e+00, 1.176900e+04,\n",
       "        5.147920e+01,          nan,          nan],\n",
       "       [5.830000e+02,          nan,          nan,          nan,\n",
       "        5.400000e+01, 0.000000e+00, 0.000000e+00, 2.840300e+04,\n",
       "        2.600000e+01,          nan,          nan],\n",
       "       [5.880000e+02,          nan,          nan,          nan,\n",
       "        6.000000e+01, 1.000000e+00, 1.000000e+00, 1.356700e+04,\n",
       "        7.920000e+01,          nan,          nan],\n",
       "       [5.920000e+02,          nan,          nan,          nan,\n",
       "        5.200000e+01, 1.000000e+00, 0.000000e+00, 3.694700e+04,\n",
       "        7.826670e+01,          nan,          nan],\n",
       "       [6.260000e+02,          nan,          nan,          nan,\n",
       "        6.100000e+01, 0.000000e+00, 0.000000e+00, 3.696300e+04,\n",
       "        3.232080e+01,          nan,          nan],\n",
       "       [6.270000e+02,          nan,          nan,          nan,\n",
       "        5.700000e+01, 0.000000e+00, 0.000000e+00, 2.195330e+05,\n",
       "        1.235000e+01,          nan,          nan],\n",
       "       [6.310000e+02,          nan,          nan,          nan,\n",
       "        8.000000e+01, 0.000000e+00, 0.000000e+00, 2.704200e+04,\n",
       "        3.000000e+01,          nan,          nan],\n",
       "       [6.320000e+02,          nan,          nan,          nan,\n",
       "        5.100000e+01, 0.000000e+00, 0.000000e+00, 3.477430e+05,\n",
       "        7.054200e+00,          nan,          nan],\n",
       "       [6.480000e+02,          nan,          nan,          nan,\n",
       "        5.600000e+01, 0.000000e+00, 0.000000e+00, 1.321300e+04,\n",
       "        3.550000e+01,          nan,          nan],\n",
       "       [6.600000e+02,          nan,          nan,          nan,\n",
       "        5.800000e+01, 0.000000e+00, 2.000000e+00, 3.527300e+04,\n",
       "        1.132750e+02,          nan,          nan],\n",
       "       [6.730000e+02,          nan,          nan,          nan,\n",
       "        7.000000e+01, 0.000000e+00, 0.000000e+00,          nan,\n",
       "        1.050000e+01,          nan,          nan],\n",
       "       [6.850000e+02,          nan,          nan,          nan,\n",
       "        6.000000e+01, 1.000000e+00, 1.000000e+00, 2.975000e+04,\n",
       "        3.900000e+01,          nan,          nan],\n",
       "       [6.950000e+02,          nan,          nan,          nan,\n",
       "        6.000000e+01, 0.000000e+00, 0.000000e+00, 1.138000e+05,\n",
       "        2.655000e+01,          nan,          nan],\n",
       "       [6.960000e+02,          nan,          nan,          nan,\n",
       "        5.200000e+01, 0.000000e+00, 0.000000e+00, 2.487310e+05,\n",
       "        1.350000e+01,          nan,          nan],\n",
       "       [7.150000e+02,          nan,          nan,          nan,\n",
       "        5.200000e+01, 0.000000e+00, 0.000000e+00, 2.506470e+05,\n",
       "        1.300000e+01,          nan,          nan],\n",
       "       [7.460000e+02,          nan,          nan,          nan,\n",
       "        7.000000e+01, 1.000000e+00, 1.000000e+00,          nan,\n",
       "        7.100000e+01,          nan,          nan],\n",
       "       [7.660000e+02,          nan,          nan,          nan,\n",
       "        5.100000e+01, 1.000000e+00, 0.000000e+00, 1.350200e+04,\n",
       "        7.795830e+01,          nan,          nan],\n",
       "       [7.730000e+02,          nan,          nan,          nan,\n",
       "        5.700000e+01, 0.000000e+00, 0.000000e+00,          nan,\n",
       "        1.050000e+01,          nan,          nan],\n",
       "       [7.750000e+02,          nan,          nan,          nan,\n",
       "        5.400000e+01, 1.000000e+00, 3.000000e+00, 2.910500e+04,\n",
       "        2.300000e+01,          nan,          nan],\n",
       "       [8.210000e+02,          nan,          nan,          nan,\n",
       "        5.200000e+01, 1.000000e+00, 1.000000e+00, 1.274900e+04,\n",
       "        9.350000e+01,          nan,          nan],\n",
       "       [8.300000e+02,          nan,          nan,          nan,\n",
       "        6.200000e+01, 0.000000e+00, 0.000000e+00, 1.135720e+05,\n",
       "        8.000000e+01,          nan,          nan],\n",
       "       [8.520000e+02,          nan,          nan,          nan,\n",
       "        7.400000e+01, 0.000000e+00, 0.000000e+00, 3.470600e+05,\n",
       "        7.775000e+00,          nan,          nan],\n",
       "       [8.580000e+02,          nan,          nan,          nan,\n",
       "        5.100000e+01, 0.000000e+00, 0.000000e+00, 1.130550e+05,\n",
       "        2.655000e+01,          nan,          nan],\n",
       "       [8.800000e+02,          nan,          nan,          nan,\n",
       "        5.600000e+01, 0.000000e+00, 1.000000e+00, 1.176700e+04,\n",
       "        8.315830e+01,          nan,          nan]])"
      ]
     },
     "execution_count": 57,
     "metadata": {},
     "output_type": "execute_result"
    }
   ],
   "source": [
    "titanic[titanic[:, 4] > 50]\n"
   ]
  },
  {
   "cell_type": "code",
   "execution_count": 58,
   "id": "72b649da",
   "metadata": {},
   "outputs": [
    {
     "data": {
      "text/plain": [
       "array([[  1.   ,     nan,     nan, ...,   7.25 ,     nan,     nan],\n",
       "       [588.   ,     nan,     nan, ...,  79.2  ,     nan,     nan],\n",
       "       [589.   ,     nan,     nan, ...,   8.05 ,     nan,     nan],\n",
       "       ...,\n",
       "       [304.   ,     nan,     nan, ...,  12.35 ,     nan,     nan],\n",
       "       [293.   ,     nan,     nan, ...,  12.875,     nan,     nan],\n",
       "       [891.   ,     nan,     nan, ...,   7.75 ,     nan,     nan]])"
      ]
     },
     "execution_count": 58,
     "metadata": {},
     "output_type": "execute_result"
    }
   ],
   "source": [
    "titanic[titanic[:, 1].argsort()]\n"
   ]
  },
  {
   "cell_type": "code",
   "execution_count": 62,
   "id": "c7422a14",
   "metadata": {},
   "outputs": [],
   "source": [
    "new_col = titanic[:, 4] + titanic[:, 5]"
   ]
  },
  {
   "cell_type": "code",
   "execution_count": 63,
   "id": "2ed30145",
   "metadata": {},
   "outputs": [],
   "source": [
    "titanic = np.insert(titanic, 6, new_col, axis=1)"
   ]
  },
  {
   "cell_type": "code",
   "execution_count": 64,
   "id": "6c6c6ddd",
   "metadata": {},
   "outputs": [
    {
     "data": {
      "text/plain": [
       "array([[  1.    ,      nan,      nan, ...,   7.25  ,      nan,      nan],\n",
       "       [  2.    ,      nan,      nan, ...,  71.2833,      nan,      nan],\n",
       "       [  3.    ,      nan,      nan, ...,   7.925 ,      nan,      nan],\n",
       "       ...,\n",
       "       [889.    ,      nan,      nan, ...,  23.45  ,      nan,      nan],\n",
       "       [890.    ,      nan,      nan, ...,  30.    ,      nan,      nan],\n",
       "       [891.    ,      nan,      nan, ...,   7.75  ,      nan,      nan]])"
      ]
     },
     "execution_count": 64,
     "metadata": {},
     "output_type": "execute_result"
    }
   ],
   "source": [
    "titanic"
   ]
  },
  {
   "cell_type": "code",
   "execution_count": 68,
   "id": "1201beb6",
   "metadata": {},
   "outputs": [],
   "source": [
    "import matplotlib.pyplot as plt\n",
    "import numpy as np\n"
   ]
  },
  {
   "cell_type": "code",
   "execution_count": 72,
   "id": "238ce220",
   "metadata": {},
   "outputs": [
    {
     "data": {
      "image/png": "[encoded data removed]",
      "text/plain": [
       "<Figure size 432x288 with 1 Axes>"
      ]
     },
     "metadata": {
      "needs_background": "light"
     },
     "output_type": "display_data"
    }
   ],
   "source": [
    "plt.xlabel('Age')\n",
    "plt.ylabel('Frequency')\n",
    "plt.show()\n"
   ]
  },
  {
   "cell_type": "code",
   "execution_count": 73,
   "id": "81017a36",
   "metadata": {},
   "outputs": [
    {
     "data": {
      "image/png": "[encoded data removed]",
      "text/plain": [
       "<Figure size 432x288 with 1 Axes>"
      ]
     },
     "metadata": {
      "needs_background": "light"
     },
     "output_type": "display_data"
    }
   ],
   "source": [
    "plt.scatter(titanic[:, 4], titanic[:, 7])\n",
    "plt.xlabel('Age')\n",
    "plt.ylabel('Fare')\n",
    "plt.show()"
   ]
  },
  {
   "cell_type": "code",
   "execution_count": 74,
   "id": "f678e449",
   "metadata": {},
   "outputs": [
    {
     "data": {
      "image/png": "[encoded data removed]",
      "text/plain": [
       "<Figure size 432x288 with 1 Axes>"
      ]
     },
     "metadata": {
      "needs_background": "light"
     },
     "output_type": "display_data"
    }
   ],
   "source": [
    "survived = np.sum(titanic[:, 1])\n",
    "not_survived = len(titanic) - survived\n",
    "plt.bar(['Survived', 'Not Survived'], [survived, not_survived])\n",
    "plt.ylabel('Number of Passengers')\n",
    "plt.show()"
   ]
  },
  {
   "cell_type": "code",
   "execution_count": 75,
   "id": "7e3926d0",
   "metadata": {},
   "outputs": [
    {
     "data": {
      "image/png": "[encoded data removed]",
      "text/plain": [
       "<Figure size 432x288 with 1 Axes>"
      ]
     },
     "metadata": {},
     "output_type": "display_data"
    }
   ],
   "source": [
    "class1 = np.sum(titanic[:, 2] == 1)\n",
    "class2 = np.sum(titanic[:, 2] == 2)\n",
    "class3 = np.sum(titanic[:, 2] == 3)\n",
    "plt.pie([class1, class2, class3], labels=['Class 1', 'Class 2', 'Class 3'])\n",
    "plt.show()\n"
   ]
  },
  {
   "cell_type": "code",
   "execution_count": 76,
   "id": "9fcc3211",
   "metadata": {},
   "outputs": [],
   "source": [
    "import seaborn as sns\n",
    "import numpy as np\n"
   ]
  },
  {
   "cell_type": "code",
   "execution_count": 77,
   "id": "8dea8dd8",
   "metadata": {},
   "outputs": [],
   "source": [
    "\n",
    "titanic = np.genfromtxt('titanic.csv', delimiter=',', skip_header=1)"
   ]
  },
  {
   "cell_type": "code",
   "execution_count": 78,
   "id": "e04cdb2c",
   "metadata": {},
   "outputs": [
    {
     "data": {
      "text/plain": [
       "array([[  1.    ,   0.    ,   3.    , ...,   7.25  ,      nan,      nan],\n",
       "       [  2.    ,   1.    ,   1.    , ...,  71.2833,      nan,      nan],\n",
       "       [  3.    ,   1.    ,   3.    , ...,   7.925 ,      nan,      nan],\n",
       "       ...,\n",
       "       [889.    ,   0.    ,   3.    , ...,  23.45  ,      nan,      nan],\n",
       "       [890.    ,   1.    ,   1.    , ...,  30.    ,      nan,      nan],\n",
       "       [891.    ,   0.    ,   3.    , ...,   7.75  ,      nan,      nan]])"
      ]
     },
     "execution_count": 78,
     "metadata": {},
     "output_type": "execute_result"
    }
   ],
   "source": [
    "titanic"
   ]
  },
  {
   "cell_type": "code",
   "execution_count": 79,
   "id": "43a1b70a",
   "metadata": {},
   "outputs": [
    {
     "data": {
      "image/png": "[encoded data removed]",
      "text/plain": [
       "<Figure size 432x288 with 1 Axes>"
      ]
     },
     "metadata": {
      "needs_background": "light"
     },
     "output_type": "display_data"
    }
   ],
   "source": [
    "sns.histplot(data=titanic, x=4, bins=20)\n",
    "plt.xlabel('Age')\n",
    "plt.ylabel('Frequency')\n",
    "plt.show()"
   ]
  },
  {
   "cell_type": "code",
   "execution_count": 80,
   "id": "90d09754",
   "metadata": {},
   "outputs": [
    {
     "data": {
      "image/png": "[encoded data removed]",
      "text/plain": [
       "<Figure size 432x288 with 1 Axes>"
      ]
     },
     "metadata": {
      "needs_background": "light"
     },
     "output_type": "display_data"
    }
   ],
   "source": [
    "sns.scatterplot(data=titanic, x=4, y=7)\n",
    "plt.xlabel('Age')\n",
    "plt.ylabel('Fare')\n",
    "plt.show()"
   ]
  },
  {
   "cell_type": "code",
   "execution_count": 81,
   "id": "1f0e92da",
   "metadata": {},
   "outputs": [
    {
     "data": {
      "image/png": "[encoded data removed]",
      "text/plain": [
       "<Figure size 432x288 with 1 Axes>"
      ]
     },
     "metadata": {
      "needs_background": "light"
     },
     "output_type": "display_data"
    }
   ],
   "source": [
    "survived = np.sum(titanic[:, 1])\n",
    "not_survived = len(titanic) - survived\n",
    "sns.barplot(x=['Survived', 'Not Survived'], y=[survived, not_survived])\n",
    "plt.ylabel('Number of Passengers')\n",
    "plt.show()\n"
   ]
  }
 ],
 "metadata": {
  "kernelspec": {
   "display_name": "Python 3 (ipykernel)",
   "language": "python",
   "name": "python3"
  },
  "language_info": {
   "codemirror_mode": {
    "name": "ipython",
    "version": 3
   },
   "file_extension": ".py",
   "mimetype": "text/x-python",
   "name": "python",
   "nbconvert_exporter": "python",
   "pygments_lexer": "ipython3",
   "version": "3.9.7"
  }
 },
 "nbformat": 4,
 "nbformat_minor": 5
}
